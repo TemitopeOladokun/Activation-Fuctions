{
 "cells": [
  {
   "cell_type": "code",
   "execution_count": 4,
   "metadata": {},
   "outputs": [],
   "source": [
    "import numpy as np"
   ]
  },
  {
   "cell_type": "code",
   "execution_count": 9,
   "metadata": {},
   "outputs": [
    {
     "name": "stdout",
     "output_type": "stream",
     "text": [
      "[0.01797164817513453, 0.981218743408878, 0.0008096084159874494]\n"
     ]
    }
   ],
   "source": [
    "def softmax(X):\n",
    "    exp_X = np.exp(X)\n",
    "    Sum_expX = np.sum(exp_X)\n",
    "    result = []\n",
    "    \n",
    "    for i in exp_X:\n",
    "        result.append(i*1.0/Sum_expX)\n",
    "    return result\n",
    "\n",
    "#or use the below formular. \n",
    "#def softmax(X):\n",
    " #   exp_X = np.exp(X)\n",
    "  #  return np.divide (exp_X, exp_X.sum())\n",
    "\n",
    "scores = [4.0, 8.0, 0.9]\n",
    "print(softmax(scores))"
   ]
  },
  {
   "cell_type": "code",
   "execution_count": 10,
   "metadata": {},
   "outputs": [
    {
     "name": "stdout",
     "output_type": "stream",
     "text": [
      "[0.84486966 0.01547433 0.13965602]\n"
     ]
    }
   ],
   "source": [
    "def softmax(x):\n",
    "    \"\"\"Compute softmax values for each sets of scores in x.\"\"\"\n",
    "    e_x = np.exp(x - np.max(x))\n",
    "    return e_x / e_x.sum()\n",
    "\n",
    "scores = [5.0, 1.0, 3.2]\n",
    "print(softmax(scores))"
   ]
  },
  {
   "cell_type": "code",
   "execution_count": null,
   "metadata": {},
   "outputs": [],
   "source": []
  }
 ],
 "metadata": {
  "kernelspec": {
   "display_name": "Python 3",
   "language": "python",
   "name": "python3"
  },
  "language_info": {
   "codemirror_mode": {
    "name": "ipython",
    "version": 3
   },
   "file_extension": ".py",
   "mimetype": "text/x-python",
   "name": "python",
   "nbconvert_exporter": "python",
   "pygments_lexer": "ipython3",
   "version": "3.7.0"
  }
 },
 "nbformat": 4,
 "nbformat_minor": 2
}
